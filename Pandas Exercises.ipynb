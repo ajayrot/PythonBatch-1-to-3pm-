{
 "cells": [
  {
   "cell_type": "markdown",
   "metadata": {},
   "source": [
    "# Ex - 1\n",
    "- Introduction:\n",
    "- GroupBy can be summarized as Split-Apply-Combine.\n",
    "- Check out this Diagram\n",
    "\n",
    "- Step 1. Import the necessary libraries\n",
    "\n",
    "- Step 2. Import the dataset from this https://raw.githubusercontent.com/justmarkham/DAT8/master/data/drinks.csv\n",
    "\n",
    "- Step 3. Assign it to a variable called drinks.\n",
    "\n",
    "- Step 4. Which continent drinks more beer on average?\n",
    "\n",
    "- Step 5. For each continent print the statistics for wine consumption.\n",
    "\n",
    "- Step 6. Print the mean alcohol consumption per continent for every column\n",
    "\n",
    "- Step 7. Print the median alcohol consumption per continent for every column\n",
    "\n",
    "- Step 8. Print the mean, min and max values for spirit consumption.\n"
   ]
  },
  {
   "cell_type": "markdown",
   "metadata": {},
   "source": [
    "# Ex- 2\n",
    "- Occupation\n",
    "- Step 1. Import the necessary libraries.\n",
    "\n",
    "- Step 2. Import the dataset from this https://raw.githubusercontent.com/justmarkham/DAT8/master/data/u.user\n",
    "\n",
    "- Step 3. Assign it to a variable called users.\n",
    "\n",
    "- Step 4. Discover what is the mean age per occupation.\n",
    "\n",
    "- Step 5. Discover the Male ratio per occupation and sort it from the most to the least.\n",
    "\n",
    "- Step 6. For each occupation, calculate the minimum and maximum ages.\n",
    "\n",
    "- Step 7. For each combination of occupation and gender, calculate the mean age.\n",
    "\n",
    "- Step 8. For each occupation present the percentage of women and men.\n",
    "\n",
    "\n"
   ]
  },
  {
   "cell_type": "markdown",
   "metadata": {},
   "source": [
    "# Ex:3\n",
    "-  Regiment\n",
    "\n",
    "- Step 1. Import the necessary libraries\n",
    "\n",
    "- Step 2. Create the DataFrame with the following values:\n"
   ]
  },
  {
   "cell_type": "code",
   "execution_count": null,
   "metadata": {},
   "outputs": [],
   "source": [
    "raw_data = {'regiment': ['Nighthawks', 'Nighthawks', 'Nighthawks', 'Nighthawks', 'Dragoons', 'Dragoons', 'Dragoons', 'Dragoons', 'Scouts', 'Scouts', 'Scouts', 'Scouts'], \n",
    "        'company': ['1st', '1st', '2nd', '2nd', '1st', '1st', '2nd', '2nd','1st', '1st', '2nd', '2nd'], \n",
    "        'name': ['Miller', 'Jacobson', 'Ali', 'Milner', 'Cooze', 'Jacon', 'Ryaner', 'Sone', 'Sloan', 'Piger', 'Riani', 'Ali'], \n",
    "        'preTestScore': [4, 24, 31, 2, 3, 4, 24, 31, 2, 3, 2, 3],\n",
    "        'postTestScore': [25, 94, 57, 62, 70, 25, 94, 57, 62, 70, 62, 70]}"
   ]
  },
  {
   "cell_type": "markdown",
   "metadata": {},
   "source": [
    "- Step 3. Assign it to a variable called regiment.\n",
    "- Don't forget to name each column\n",
    "\n",
    "- Step 4. What is the mean preTestScore from the regiment Nighthawks?\n",
    "\n",
    "- Step 5. Present general statistics by company.\n",
    "\n",
    "- Step 6. What is the mean of each company's preTestScore?\n",
    "\n",
    "- Step 7. Present the mean preTestScores grouped by regiment and company.\n",
    "\n",
    "- Step 8. Present the mean preTestScores grouped by regiment and company without heirarchical indexing.1\n",
    "\n",
    "- Step 9. Group the entire dataframe by regiment and company.\n",
    ".\n",
    "- Step 10. What is the number of observations in each regiment and company.\n",
    "\n",
    "- Step 11. Iterate over a group and print the name and the whole data from the regiment.\n"
   ]
  },
  {
   "cell_type": "code",
   "execution_count": null,
   "metadata": {},
   "outputs": [],
   "source": []
  }
 ],
 "metadata": {
  "kernelspec": {
   "display_name": "Python 3",
   "language": "python",
   "name": "python3"
  },
  "language_info": {
   "codemirror_mode": {
    "name": "ipython",
    "version": 3
   },
   "file_extension": ".py",
   "mimetype": "text/x-python",
   "name": "python",
   "nbconvert_exporter": "python",
   "pygments_lexer": "ipython3",
   "version": "3.8.5"
  }
 },
 "nbformat": 4,
 "nbformat_minor": 4
}
