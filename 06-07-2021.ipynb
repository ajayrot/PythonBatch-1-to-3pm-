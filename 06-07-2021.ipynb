{
 "cells": [
  {
   "cell_type": "markdown",
   "metadata": {},
   "source": [
    "# Inheritance:\n",
    "- It is way of creating a new class for using details of an existing class without modifying it."
   ]
  },
  {
   "cell_type": "code",
   "execution_count": 2,
   "metadata": {},
   "outputs": [
    {
     "name": "stdout",
     "output_type": "stream",
     "text": [
      "Bird is Ready\n",
      "Parrot is ready\n",
      "Parrot\n",
      "Swim faster\n",
      "Run Faster\n"
     ]
    }
   ],
   "source": [
    "#Inheritance\n",
    "#Parent class\n",
    "class Bird:\n",
    "    def __init__(self):\n",
    "        print(\"Bird is Ready\")\n",
    "    \n",
    "    def whozthis(self):\n",
    "        print(\"Bird\")\n",
    "        \n",
    "    def fast(self):\n",
    "        print(\"Swim faster\")\n",
    "        \n",
    "class Parrot(Bird):#child Class\n",
    "    def __init__(self):\n",
    "        super().__init__()#call super() function\n",
    "        print(\"Parrot is ready\")\n",
    "        \n",
    "    def whozthis(self):\n",
    "        print(\"Parrot\")\n",
    "        \n",
    "    def run(self):\n",
    "        print('Run Faster')\n",
    "parrot = Parrot()\n",
    "parrot.whozthis()\n",
    "parrot.fast()\n",
    "parrot.run()"
   ]
  },
  {
   "cell_type": "code",
   "execution_count": 5,
   "metadata": {},
   "outputs": [
    {
     "name": "stdout",
     "output_type": "stream",
     "text": [
      "Login Method\n",
      "Forget Password method\n"
     ]
    }
   ],
   "source": [
    "class A:\n",
    "    def userLogin(self):\n",
    "        print(\"Login Method\")\n",
    "        return\n",
    "    def userRegister(self):\n",
    "        print(\"Register method\")\n",
    "        \n",
    "class B(A):\n",
    "    def forgotpassword(self):\n",
    "        print('Forget Password method')\n",
    "        return\n",
    "objB =B()\n",
    "objB.userLogin()\n",
    "objB.forgotpassword()\n",
    "        \n",
    "    \n",
    "        "
   ]
  },
  {
   "cell_type": "markdown",
   "metadata": {},
   "source": [
    "# Encapsulation\n",
    "- It is a Process of wrapping up variables and methods into single entity "
   ]
  },
  {
   "cell_type": "code",
   "execution_count": 6,
   "metadata": {},
   "outputs": [
    {
     "name": "stdout",
     "output_type": "stream",
     "text": [
      "Ajay\n",
      "20\n",
      "Ajay\n",
      "20\n"
     ]
    }
   ],
   "source": [
    "class Person:\n",
    "    def __init__(self,name,age=0):\n",
    "        self.name = name\n",
    "        self.age = age\n",
    "    def display(self):\n",
    "        print(self.name)\n",
    "        print(self.age)\n",
    "        \n",
    "person = Person(\"Ajay\",20)\n",
    "person.display() #accessing using class method\n",
    "print(person.name)#accessing directly from outside\n",
    "print(person.age)"
   ]
  },
  {
   "cell_type": "markdown",
   "metadata": {},
   "source": [
    "# Polymorphism:\n",
    "- It allows a particular object referring to a particular class to be used in a \n",
    "  similar fashion as if it was different object refering to altogether a different class"
   ]
  },
  {
   "cell_type": "code",
   "execution_count": 9,
   "metadata": {},
   "outputs": [
    {
     "name": "stdout",
     "output_type": "stream",
     "text": [
      "this is age method\n",
      "color of Rabbit\n",
      "this is age method\n",
      "color of horse\n"
     ]
    }
   ],
   "source": [
    "class rabbit():\n",
    "    def age(self):\n",
    "        print(\"this is age method\")\n",
    "        \n",
    "        \n",
    "    def color(self):\n",
    "        print(\"color of Rabbit\")\n",
    "        \n",
    "class horse():\n",
    "    def age(self):\n",
    "        print(\"this is age method\")\n",
    "        \n",
    "    def color(self):\n",
    "        print(\"color of horse\")\n",
    "        \n",
    "obj1 =rabbit()\n",
    "obj2 =horse()\n",
    "for type in(obj1,obj2):#create for loop to iterate through obj1 ,obj2\n",
    "    type.age()\n",
    "    type.color()"
   ]
  },
  {
   "cell_type": "markdown",
   "metadata": {},
   "source": [
    "# Python Statistics Module\n",
    "- Python has bulit in module and you can use to calculate mathematical statistics of numerical data\n",
    "- mean\n",
    "- median\n",
    "- mode\n",
    "- varience"
   ]
  },
  {
   "cell_type": "code",
   "execution_count": 11,
   "metadata": {},
   "outputs": [
    {
     "data": {
      "text/plain": [
       "[1, 2, 3, 4, 5, 6, 7, 8, 9, 10, 11, 12, 13, 14, 15, 16, 17, 18, 19, 20]"
      ]
     },
     "execution_count": 11,
     "metadata": {},
     "output_type": "execute_result"
    }
   ],
   "source": [
    "import statistics as st\n",
    "l1 = list(range(1,21))\n",
    "l1"
   ]
  },
  {
   "cell_type": "code",
   "execution_count": 13,
   "metadata": {},
   "outputs": [
    {
     "name": "stdout",
     "output_type": "stream",
     "text": [
      "10.5\n",
      "10.5\n"
     ]
    }
   ],
   "source": [
    "print(st.mean(l1))\n",
    "print(sum(l1)/len(l1))"
   ]
  },
  {
   "cell_type": "code",
   "execution_count": 16,
   "metadata": {},
   "outputs": [
    {
     "name": "stdout",
     "output_type": "stream",
     "text": [
      "3\n",
      "5.0\n"
     ]
    }
   ],
   "source": [
    "#median :return the middle value of numeric data in a list\n",
    "import statistics as st\n",
    "print(st.median([1,2,3,4,5]))\n",
    "print(st.median([1,2,3,7,8,9]))"
   ]
  },
  {
   "cell_type": "code",
   "execution_count": 17,
   "metadata": {},
   "outputs": [
    {
     "name": "stdout",
     "output_type": "stream",
     "text": [
      "2\n"
     ]
    }
   ],
   "source": [
    "#mode :return the most common data point in the list\n",
    "print(st.mode([2,3,4,5,1,2,3]))"
   ]
  },
  {
   "cell_type": "code",
   "execution_count": 19,
   "metadata": {},
   "outputs": [
    {
     "name": "stdout",
     "output_type": "stream",
     "text": [
      "35.0\n"
     ]
    }
   ],
   "source": [
    "#varience :standard deviation\n",
    "print(st.variance(l1))"
   ]
  },
  {
   "cell_type": "markdown",
   "metadata": {},
   "source": [
    "# Random Module\n",
    "- used for to get random numbers"
   ]
  },
  {
   "cell_type": "code",
   "execution_count": 22,
   "metadata": {},
   "outputs": [
    {
     "data": {
      "text/plain": [
       "0.5525024629098615"
      ]
     },
     "execution_count": 22,
     "metadata": {},
     "output_type": "execute_result"
    }
   ],
   "source": [
    "#Random method\n",
    "import random as rd\n",
    "rd.random()"
   ]
  },
  {
   "cell_type": "code",
   "execution_count": 26,
   "metadata": {},
   "outputs": [
    {
     "name": "stdout",
     "output_type": "stream",
     "text": [
      "2\n",
      "74\n"
     ]
    }
   ],
   "source": [
    "#randint()- returns a random integer between specified intergers\n",
    "print(rd.randint(1,10))\n",
    "print(rd.randint(1,100))"
   ]
  },
  {
   "cell_type": "code",
   "execution_count": 30,
   "metadata": {},
   "outputs": [
    {
     "name": "stdout",
     "output_type": "stream",
     "text": [
      "5\n",
      "3\n",
      "40\n"
     ]
    }
   ],
   "source": [
    "#randrange()-returns a randomly selected element from range created\n",
    "print(rd.randrange(1,10))\n",
    "print(rd.randrange(1,10,2))\n",
    "print(rd.randrange(0,100,10))"
   ]
  },
  {
   "cell_type": "code",
   "execution_count": 36,
   "metadata": {},
   "outputs": [
    {
     "name": "stdout",
     "output_type": "stream",
     "text": [
      "1\n",
      "[2, 4, 4]\n"
     ]
    }
   ],
   "source": [
    "#random.choice()- return a randomly selected element from non empty sequence\n",
    "import random\n",
    "l1 =[1,2,3,4,5]\n",
    "print(random.choice(l1))#RETURN RANDOM ELEMENT FROM GIVEN SEQUENCE\n",
    "print(random.choices(l1,k= 3))\n"
   ]
  },
  {
   "cell_type": "code",
   "execution_count": 39,
   "metadata": {},
   "outputs": [
    {
     "name": "stdout",
     "output_type": "stream",
     "text": [
      "[4, 3, 2, 5, 1]\n"
     ]
    }
   ],
   "source": [
    "#random.shuffle()-rur=turn randomly reorder the elements in a given list\n",
    "l1=[1,2,3,4,5]\n",
    "import random as rd\n",
    "rd.shuffle(l1)\n",
    "print(l1)"
   ]
  },
  {
   "cell_type": "code",
   "execution_count": null,
   "metadata": {},
   "outputs": [],
   "source": []
  }
 ],
 "metadata": {
  "kernelspec": {
   "display_name": "Python 3",
   "language": "python",
   "name": "python3"
  },
  "language_info": {
   "codemirror_mode": {
    "name": "ipython",
    "version": 3
   },
   "file_extension": ".py",
   "mimetype": "text/x-python",
   "name": "python",
   "nbconvert_exporter": "python",
   "pygments_lexer": "ipython3",
   "version": "3.8.5"
  }
 },
 "nbformat": 4,
 "nbformat_minor": 4
}
