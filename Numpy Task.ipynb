{
 "cells": [
  {
   "cell_type": "markdown",
   "metadata": {},
   "source": [
    "- 1.Write a NumPy program to test whether none of the elements of a given array is zero.\n",
    "- 2.Write a NumPy program to test whether any of the elements of a given array is non-zero.\n",
    "- 3.Create an identity matrix of dimension 4-by-4\n",
    "    - Eg: \n",
    "    - [[1. 0. 0. 0.]\n",
    "    - [0. 1. 0. 0.]\n",
    "    - [0. 0. 1. 0.]\n",
    "    - [0. 0. 0. 1.]]\n",
    "- 4.Convert a 1-D array to a 3-D array\n",
    "- 5.Convert all the elements of a numpy array from float to integer datatype\n",
    "- 6.Create a 10x10 array with random values and find the minimum and maximum values\n",
    "- 7.Create a random vector of size 30 and find the mean value \n",
    "- 8.Create a 2d array with 1 on the border and 0 inside \n",
    "- 9.How to add a border (filled with 0's) around an existing array?\n",
    "- 10.What is the result of the following expression? (\n",
    "- 11.Create a 5x5 matrix with values 1,2,3,4 just below the diagonal\n",
    "- 12.Create a 8x8 matrix and fill it with a checkerboard pattern\n",
    "- 13.Consider a (6,7,8) shape array, what is the index (x,y,z) of the 100th element? \n",
    "- 14.Create a checkerboard 8x8 matrix using the tile function\n",
    "- 15.Normalize a 5x5 random matrix \n",
    "- 16.Create a custom dtype that describes a color as four unsigned bytes (RGBA)\n",
    "- 17.Multiply a 5x3 matrix by a 3x2 matrix (real matrix product)\n",
    "- 18.Given a 1D array, negate all elements which are between 3 and 8, in place. \n",
    "- 19.What is the output of the following script?\n",
    "- 20.Consider an integer vector Z, which of these expressions are legal?\n",
    "- 21. What are the result of the following expressions?\n",
    "- 22.How to round away from zero a float array ?\n",
    "- 23.How to find common values between two arrays? \n",
    "- 24.How to get the dates of yesterday, today and tomorrow?\n",
    "- 25.How to get all the dates corresponding to the month of July 2016?\n",
    "- 26.How to compute ((A+B)*(-A/2)) in place (without copy)? \n",
    "- 27.Extract the integer part of a random array of positive numbers using 4 different methods\n",
    "- 28.Create a 5x5 matrix with row values ranging from 0 to 4 \n",
    "- 29.Consider a generator function that generates 10 integers and use it to build an array\n",
    "- 30.Create a vector of size 10 with values ranging from 0 to 1, both excluded\n",
    "- 31.Create a random vector of size 10 and sort it\n",
    "- 32.How to sum a small array faster than np.sum? \n",
    "- 33.Consider two random array A and B, check if they are equal \n",
    "- 34.Make an array immutable (read-only)\n",
    "- 35.Consider a random 10x2 matrix representing cartesian coordinates, convert them to polar coordinates \n",
    "- 36.Create random vector of size 10 and replace the maximum value by 0\n",
    "- 37.Create a structured array with x and y coordinates covering the [0,1]x[0,1] area\n",
    "- 38. Print the minimum and maximum representable value for each numpy scalar type\n",
    "- 39.Given two arrays, X and Y, construct the Cauchy matrix C (Cij =1/(xi - yj)) \n",
    "- 40. Create a structured array representing a position (x,y) and a color (r,g,b) \n"
   ]
  },
  {
   "cell_type": "code",
   "execution_count": null,
   "metadata": {},
   "outputs": [],
   "source": []
  }
 ],
 "metadata": {
  "kernelspec": {
   "display_name": "Python 3",
   "language": "python",
   "name": "python3"
  },
  "language_info": {
   "codemirror_mode": {
    "name": "ipython",
    "version": 3
   },
   "file_extension": ".py",
   "mimetype": "text/x-python",
   "name": "python",
   "nbconvert_exporter": "python",
   "pygments_lexer": "ipython3",
   "version": "3.8.5"
  }
 },
 "nbformat": 4,
 "nbformat_minor": 4
}
