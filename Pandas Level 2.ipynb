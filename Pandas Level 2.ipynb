{
 "cells": [
  {
   "cell_type": "markdown",
   "metadata": {},
   "source": [
    "\n",
    "# Exercise 1\n",
    "- Step 1. Go to **kaggle.com/openfoodfacts/world-food-facts**\n",
    "- Step 2. Download the dataset to your computer and unzip it.\n",
    "- Step 3. Use the csv file and assign it to a dataframe called food\n",
    "- Step 4. See the first 5 entries\n",
    "- Step 5. What is the number of observations in the dataset?\n",
    "- Step 6. What is the number of columns in the dataset?\n",
    "- Step 7. Print the name of all the columns.\n",
    "- Step 8. What is the name of 105th column?\n",
    "- Step 9. What is the type of the observations of the 105th column?\n",
    "- Step 10. How is the dataset indexed?\n",
    "- Step 11. What is the product name of the 19th observation?\n"
   ]
  },
  {
   "cell_type": "markdown",
   "metadata": {},
   "source": [
    "# Ex2 - Filtering and Sorting Data\n",
    "- Step 1. Import the necessary libraries\n",
    "- Step 2. Import the dataset from this **https://www.kaggle.com/datasets**\n",
    "- Step 3. Assign it to a variable called euro12.\n",
    "- Step 4. Select only the Goal column.\n",
    "- Step 5. How many team participated in the Euro2012?\n",
    "- Step 6. What is the number of columns in the dataset?\n",
    "- Step 7. View only the columns Team, Yellow Cards and Red Cards and assign them to a dataframe called discipline\n",
    "- Step 8. Sort the teams by Red Cards, then to Yellow Cards\n",
    "- Step 9. Calculate the mean Yellow Cards given per Team\n",
    "- Step 10. Filter teams that scored more than 6 goals\n",
    "- Step 11. Select the teams that start with G\n",
    "- Step 12. Select the first 7 columns\n",
    "- Step 13. Select all columns except the last 3.\n",
    "- Step 14. Present only the Shooting Accuracy from England, Italy and Russia\n"
   ]
  },
  {
   "cell_type": "markdown",
   "metadata": {},
   "source": [
    "# EX:3 Grouping:\n",
    "- Step 1. Import the necessary libraries\n",
    "- Step 2. Import the dataset from this  https://www.kaggle.com/datasets\n",
    "- Step 3. Assign it to a variable called users.\n",
    "- Step 4. Discover what is the mean age per occupation\n",
    "- Step 5. Discover the Male ratio per occupation and sort it from the most to the least\n",
    "- Step 6. For each occupation, calculate the minimum and maximum ages\n",
    "- Step 7. For each combination of occupation and gender, calculate the mean age\n",
    "- \n"
   ]
  }
 ],
 "metadata": {
  "celltoolbar": "Tags",
  "kernelspec": {
   "display_name": "Python 3",
   "language": "python",
   "name": "python3"
  },
  "language_info": {
   "codemirror_mode": {
    "name": "ipython",
    "version": 3
   },
   "file_extension": ".py",
   "mimetype": "text/x-python",
   "name": "python",
   "nbconvert_exporter": "python",
   "pygments_lexer": "ipython3",
   "version": "3.8.5"
  }
 },
 "nbformat": 4,
 "nbformat_minor": 4
}
