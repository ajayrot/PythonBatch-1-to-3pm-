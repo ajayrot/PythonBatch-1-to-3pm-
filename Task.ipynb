{
 "cells": [
  {
   "cell_type": "markdown",
   "metadata": {},
   "source": [
    "1.Create a one-dimensional ndarray object with a length of 10 and all 0s, and then make the fifth element equal to 1\n",
    "2.Create an ndarray object with elements from 10 to 49\n",
    "3.Reverse the position of all elements in question 2\n",
    "4. Use np.random.random to create a 10*10 ndarray object and print out the largest and smallest elements\n",
    "5. Create a 10*10 ndarray object, and the matrix boundary is all 1, and the inside is all 0\n",
    "6.Create a 5*5 matrix with each row from 0 to 4\n",
    "7.Create an arithmetic sequence of length 12 between (0, 1)\n",
    "8.Create a random array of length 10 and sort\n",
    "9. Create a random array of length 10 and replace the maximum value with 0\n",
    "10. How to sort a 5*5 matrix according to the third column?\n",
    "11. Given a 4-dimensional matrix, how to get the sum of the last two dimensions?\n",
    "12. Given an array [1, 2, 3, 4, 5], how to get a new array with 3 zeros inserted between each element of this array?\n",
    "\n",
    "13. Given a two-dimensional matrix, how to exchange the elements of two rows?\n",
    "\n",
    "14. Create a random array with a length of 100,000, use two methods to square it, and compare the time taken\n",
    "\n",
    "15. Create a 53 random matrices and a 32 Random matrix, find matrix product\n",
    "\n",
    "16. The elements of each row of the matrix are subtracted from the average value of the row\n",
    "\n",
    "17. Print out the following function (required to use np.zeros to create an 8*8 matrix):\n",
    "- [[0 1 0 1 0 1 0 1]\n",
    "- [1 0 1 0 1 0 1 0]\n",
    "- [0 1 0 1 0 1 0 1]\n",
    "- [1 0 1 0 1 0 1 0]\n",
    "- [0 1 0 1 0 1 0 1]\n",
    "- [1 0 1 0 1 0 1 0]\n",
    "- [0 1 0 1 0 1 0 1]\n",
    "- [1 0 1 0 1 0 1 0]]\n",
    "18. Regularize a 55 random matrix\n",
    "[Regular concept: Assuming that a is an element in the matrix, max/min are the maximum and minimum values ​​of the matrix elements respectively, then a = (a-min)/(max -min)] 18. Regularize a 55 random matrix\n",
    "19. Convert a one-dimensional array into a binary representation matrix. E.g\n",
    "[1,2,3]\n",
    "is converted to\n",
    "- [[0,0,1],\n",
    "- [0,1,0],\n",
    "- [0,1,1]]\n",
    "\n",
    "20, realize the bubble sort method\n",
    "- n=[19,60,66,71,54,57,1,24,82,39]\n",
    "\n",
    "\n"
   ]
  },
  {
   "cell_type": "code",
   "execution_count": null,
   "metadata": {},
   "outputs": [],
   "source": []
  }
 ],
 "metadata": {
  "kernelspec": {
   "display_name": "Python 3",
   "language": "python",
   "name": "python3"
  },
  "language_info": {
   "codemirror_mode": {
    "name": "ipython",
    "version": 3
   },
   "file_extension": ".py",
   "mimetype": "text/x-python",
   "name": "python",
   "nbconvert_exporter": "python",
   "pygments_lexer": "ipython3",
   "version": "3.8.5"
  }
 },
 "nbformat": 4,
 "nbformat_minor": 4
}
