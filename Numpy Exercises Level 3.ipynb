{
 "cells": [
  {
   "cell_type": "markdown",
   "metadata": {},
   "source": [
    "1. Consider an array Z = [1,2,3,4,5,6,7,8,9,10,11,12,13,14], how to generate an array R = [[1,2,3,4], [2,3,4,5], [3,4,5,6], ..., [11,12,13,14]]? \n",
    "\n",
    "2. Compute a matrix rank \n",
    "\n",
    "3. How to find the most frequent value in an array?\n",
    "\n",
    "4. Extract all the contiguous 3x3 blocks from a random 10x10 matrix \n",
    "\n",
    "5. Create a 2D array subclass such that Z[i,j] == Z[j,i] \n",
    "\n",
    "6. Consider a set of p matrices wich shape (n,n) and a set of p vectors with shape (n,1). How to compute the sum of of the p matrix products at once? (result has shape (n,1)) \n",
    "\n",
    "7. Consider a 16x16 array, how to get the block-sum (block size is 4x4)? \n",
    "\n",
    "8. How to implement the Game of Life using numpy arrays? \n",
    "\n",
    "9. How to get the n largest values of an array \n",
    "\n",
    "10. Given an arbitrary number of vectors, build the cartesian product (every combinations of every item) \n",
    "\n",
    "11. How to create a record array from a regular array? \n",
    "\n",
    "12. Consider a large vector Z, compute Z to the power of 3 using 3 different methods \n",
    "\n",
    "13. Consider two arrays A and B of shape (8,3) and (2,2). How to find rows of A that contain elements of each row of B regardless of the order of the elements in B? \n",
    "\n",
    "14. Considering a 10x3 matrix, extract rows with unequal values (e.g. [2,2,3]) \n",
    "\n",
    "15. Convert a vector of ints into a matrix binary representation \n",
    "\n",
    "16. Given a two dimensional array, how to extract unique rows? \n",
    "\n",
    "17. Considering 2 vectors A & B, write the einsum equivalent of inner, outer, sum, and mul function \n",
    "\n",
    "18. Considering a path described by two vectors (X,Y), how to sample it using equidistant samples \n",
    "?\n",
    "19. Given an integer n and a 2D array X, select from X the rows which can be interpreted as draws from a multinomial distribution with n degrees, i.e., the rows which only contain integers and which sum to n. \n",
    "\n",
    "20. Compute bootstrapped 95% confidence intervals for the mean of a 1D array X (i.e., resample the elements of an array with replacement N times, compute the mean of each sample, and then compute percentiles over the means). \n"
   ]
  },
  {
   "cell_type": "code",
   "execution_count": null,
   "metadata": {},
   "outputs": [],
   "source": []
  }
 ],
 "metadata": {
  "kernelspec": {
   "display_name": "Python 3",
   "language": "python",
   "name": "python3"
  },
  "language_info": {
   "codemirror_mode": {
    "name": "ipython",
    "version": 3
   },
   "file_extension": ".py",
   "mimetype": "text/x-python",
   "name": "python",
   "nbconvert_exporter": "python",
   "pygments_lexer": "ipython3",
   "version": "3.8.5"
  }
 },
 "nbformat": 4,
 "nbformat_minor": 4
}
