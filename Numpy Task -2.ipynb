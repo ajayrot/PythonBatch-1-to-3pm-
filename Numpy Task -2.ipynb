{
 "cells": [
  {
   "cell_type": "markdown",
   "metadata": {},
   "source": [
    "- 1.How to convert a float (32 bits) array into an integer (32 bits) in place\n",
    "- 2.Create a 3x3 matrix with values ranging from 0 to 8\n",
    "- 3.Find indices of non-zero elements from [1,2,0,0,4,0]\n",
    "- 4.Create a 5x5 matrix with values 1,2,3,4 just below the diagonal\n",
    "     - Eg:\n",
    "     - 0  0  0  0  0\n",
    "     - 1  0  0  0  0\n",
    "     - 0  2  0  0  0\n",
    "     - 0  0  3  0  0\n",
    "     - 0  0  0  4  0\n",
    "- 5.Create a 10x10x10 array with random values\n",
    "- 6.Create a 8x8 matrix and fill it with a checkerboard pattern\n",
    "     - Eg:\n",
    "     - 0  1  0  1  0  1  0  1\n",
    "     - 1  0  1  0  1  0  1  0\n",
    "     - 0  1  0  1  0  1  0  1\n",
    "     - 1  0  1  0  1  0  1  0\n",
    "     - 0  1  0  1  0  1  0  1\n",
    "     - 1  0  1  0  1  0  1  0\n",
    "     - 0  1  0  1  0  1  0  1\n",
    "     - 1  0  1  0  1  0  1  0\n",
    "- 7.Create a 10x10 array with random values and find the minimum and maximum values\n",
    "- 8.Create a 10x10 matrix with row values ranging from 0 to 9\n",
    "     - Eg:\n",
    "     -  0  1  2  3  4  5  6  7  8  9\n",
    "     -  0  1  2  3  4  5  6  7  8  9\n",
    "     -  0  1  2  3  4  5  6  7  8  9\n",
    "     -  0  1  2  3  4  5  6  7  8  9\n",
    "     -  0  1  2  3  4  5  6  7  8  9\n",
    "     -  0  1  2  3  4  5  6  7  8  9\n",
    "     -  0  1  2  3  4  5  6  7  8  9\n",
    "     -  0  1  2  3  4  5  6  7  8  9\n",
    "     -  0  1  2  3  4  5  6  7  8  9\n",
    "     -  0  1  2  3  4  5  6  7  8  9\n",
    "- 9.Consider two random matrices A anb B, check if they are equal.\n",
    "- 10.Create a random vector of size 1000 and find the mean value\n",
    "- 11.Create random vector of size 100 and replace the maximum value by 0\n",
    "- 12.Create a 5X2 integer array from a range between 100 to 200 such that the difference between each element is 10\n",
    "- 13.Following is the provided numPy array. Return array of items by taking the third column from all rows\n",
    "   - sampleArray = numpy.array([[11 ,22, 33], [44, 55, 66], [77, 88, 99]])\n",
    "- 14.Return array of odd rows and even columns from below numpy array\n",
    "   - sampleArray = numpy.array([[3 ,6, 9, 12], [15 ,18, 21, 24], \n",
    "[27 ,30, 33, 36], [39 ,42, 45, 48], [51 ,54, 57, 60]])\n",
    "- 15.Create a result array by adding the following two NumPy arrays. Next, modify the result array by calculating the square of each element\n",
    "    - arrayOne = numpy.array([[5, 6, 9], [21 ,18, 27]])\n",
    "    - arrayTwo = numpy.array([[15 ,33, 24], [4 ,7, 1]])\n",
    "- 16.Split the array into four equal-sized sub-arrays\n",
    "     - Note: Create an 8X3 integer array from a range between 10 to 34 such that the difference between each element is 1 and then Split the array into four equal-sized sub-arrays.\n",
    "- 17.Sort following NumPy array\n",
    "    - Case 1: Sort array by the second row\n",
    "    - Case 2: Sort the array by the second column\n",
    "    - sampleArray = numpy.array([[34,43,73],[82,22,12],[53,94,66]])\n",
    "- 18.Print max from axis 0 and min from axis 1 from the following 2-D array.\n",
    "     - sampleArray = numpy.array([[34,43,73],[82,22,12],[53,94,66]])\n",
    "- 19.Delete the second column from a given array and insert the following new column in its place.\n",
    "     - sampleArray = numpy.array([[34,43,73],[82,22,12],[53,94,66]]) \n",
    "     - newColumn = numpy.array([[10,10,10]])\n",
    "- 20.Create two 2-D arrays and Plot them using matplotlib\n"
   ]
  },
  {
   "cell_type": "code",
   "execution_count": null,
   "metadata": {},
   "outputs": [],
   "source": []
  }
 ],
 "metadata": {
  "kernelspec": {
   "display_name": "Python 3",
   "language": "python",
   "name": "python3"
  },
  "language_info": {
   "codemirror_mode": {
    "name": "ipython",
    "version": 3
   },
   "file_extension": ".py",
   "mimetype": "text/x-python",
   "name": "python",
   "nbconvert_exporter": "python",
   "pygments_lexer": "ipython3",
   "version": "3.8.5"
  }
 },
 "nbformat": 4,
 "nbformat_minor": 4
}
