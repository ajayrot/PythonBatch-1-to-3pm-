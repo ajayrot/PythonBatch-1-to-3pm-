{
 "cells": [
  {
   "cell_type": "markdown",
   "metadata": {},
   "source": [
    "\n",
    "1. How to create a series from a list, numpy array and dict?\n",
    "\n",
    "2. How to combine many series to form a dataframe?\n",
    "\n",
    "3. How to get the items of series A not present in series B?\n",
    "\n",
    "4. How to get the items not common to both series A and series B?\n",
    "\n",
    "5. How to get useful infos\n",
    "\n",
    "6. How to get frequency counts of unique items of a series?\n",
    "\n",
    "7. How to convert a numpy array to a dataframe of given shape? (L1)\n",
    "\n",
    "8. How to find the positions of numbers that are multiples of 3 from a series?\n",
    "\n",
    "9. How to extract items at given positions from a series?\n",
    "\n",
    "10. How to stack two series vertically and horizontally ?\n",
    "\n",
    "11. How to get the positions of items of series A in another series B?\n",
    "\n",
    "12. How to compute difference of differences between consequtive numbers of a series?\n",
    "\n",
    "13. How to convert a series of date-strings to a timeseries?\n",
    "\n",
    "14. How to filter words that contain atleast 2 vowels from a series?\n",
    "\n",
    "15. How to replace missing spaces in a string with the least frequent character?\n",
    "\n",
    "16. How to change column values when importing csv to a dataframe?\n",
    "\n",
    "17. How to import only specified columns from a csv file?\n",
    "\n",
    "18. How to check if a dataframe has any missing values?\n",
    "\n",
    "19. How to replace missing values of multiple numeric columns with the mean?\n",
    "\n",
    "20. How to change the order of columns of a dataframe?\n",
    "\n",
    "21. How to filter every nth row in a dataframe?\n",
    "\n",
    "22. How to get the last n rows of a dataframe with row sum > 100?\n",
    "\n",
    "23. How to find and cap outliers from a series or dataframe column?\n",
    "\n",
    "24. How to reverse the rows of a dataframe?"
   ]
  }
 ],
 "metadata": {
  "kernelspec": {
   "display_name": "Python 3",
   "language": "python",
   "name": "python3"
  },
  "language_info": {
   "codemirror_mode": {
    "name": "ipython",
    "version": 3
   },
   "file_extension": ".py",
   "mimetype": "text/x-python",
   "name": "python",
   "nbconvert_exporter": "python",
   "pygments_lexer": "ipython3",
   "version": "3.8.5"
  }
 },
 "nbformat": 4,
 "nbformat_minor": 4
}
