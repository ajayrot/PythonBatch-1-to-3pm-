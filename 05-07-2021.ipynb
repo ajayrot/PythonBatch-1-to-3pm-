{
 "cells": [
  {
   "cell_type": "markdown",
   "metadata": {},
   "source": [
    "# Object Oriented Programming in Python\n",
    "- Python Supports Diffrent Programming Approaches\n",
    "- One of popular approach to solve Programming Problem is by creating objects\n",
    "- It is Object Oriented programming\n",
    "- An Object has two Charactertics:\n",
    "  - attributes\n",
    "  - behaviour\n",
    "  \n",
    "# Example:\n",
    "- A Parrot is an object\n",
    "   - name,age,color as attributes\n",
    "   - Singing,Dancing as behaviour"
   ]
  },
  {
   "cell_type": "markdown",
   "metadata": {},
   "source": [
    "# OOP in Python\n",
    "- Class\n",
    "- Object\n",
    "- Methods\n",
    "- Contructors\n",
    "- Inheritance\n",
    "- Class is collection of data members and members functions\n",
    "- Class is a logical entity\n",
    "- Class in python can be defined by **class** keyword\n",
    "- Class Name is always starts with Upper case characters\n",
    "- Class is a blueprint for the object"
   ]
  },
  {
   "cell_type": "code",
   "execution_count": 3,
   "metadata": {},
   "outputs": [],
   "source": [
    "#syntax\n",
    "class Parrot:\n",
    "    pass # pass put in the class statement to avoid getting an error"
   ]
  },
  {
   "cell_type": "markdown",
   "metadata": {},
   "source": [
    "# Object\n",
    "- when class is defined ,only the description for the objectis defined\n",
    "- no memory or storage is allocated"
   ]
  },
  {
   "cell_type": "code",
   "execution_count": null,
   "metadata": {},
   "outputs": [],
   "source": [
    "#creating Object\n",
    "obj =Parrot() #obj is an objectof class Parrot"
   ]
  },
  {
   "cell_type": "code",
   "execution_count": 5,
   "metadata": {},
   "outputs": [
    {
     "name": "stdout",
     "output_type": "stream",
     "text": [
      "<class '__main__.Cls'>\n"
     ]
    }
   ],
   "source": [
    "#creating class\n",
    "class Cls:\n",
    "    x =10\n",
    "print(Cls)"
   ]
  },
  {
   "cell_type": "code",
   "execution_count": 7,
   "metadata": {},
   "outputs": [
    {
     "name": "stdout",
     "output_type": "stream",
     "text": [
      "10\n"
     ]
    }
   ],
   "source": [
    "#creating object\n",
    "class Cls:\n",
    "    x = 10\n",
    "a1 = Cls() #object nameda1 and print thevalue of x\n",
    "print(a1.x)"
   ]
  },
  {
   "cell_type": "code",
   "execution_count": 8,
   "metadata": {},
   "outputs": [
    {
     "name": "stdout",
     "output_type": "stream",
     "text": [
      "Test method from Demo class\n"
     ]
    }
   ],
   "source": [
    "#creating method in class\n",
    "class Demo:\n",
    "    #method\n",
    "    def Test(self):\n",
    "        print(\"Test method from Demo class\")\n",
    "        return\n",
    "obj = Demo()\n",
    "obj.Test()"
   ]
  },
  {
   "cell_type": "code",
   "execution_count": 10,
   "metadata": {},
   "outputs": [
    {
     "name": "stdout",
     "output_type": "stream",
     "text": [
      "your name is : Ajay\n"
     ]
    }
   ],
   "source": [
    "class Demo1:\n",
    "    def Test(self,name):\n",
    "        print('your name is :',name)\n",
    "        return\n",
    "obj1 =Demo1()\n",
    "obj1.Test('Ajay')"
   ]
  },
  {
   "cell_type": "code",
   "execution_count": 14,
   "metadata": {},
   "outputs": [
    {
     "data": {
      "text/plain": [
       "6"
      ]
     },
     "execution_count": 14,
     "metadata": {},
     "output_type": "execute_result"
    }
   ],
   "source": [
    "class Demo3:\n",
    "    def add(self,x,y,z):\n",
    "        return x+y+z\n",
    "p1=Demo3()\n",
    "p1.add(1,2,3)\n",
    "    "
   ]
  },
  {
   "cell_type": "markdown",
   "metadata": {},
   "source": [
    "# Constructor\n",
    "- is spl type method which can invokes automatically when the object of the class is created.\n",
    "- use init() function to assaign values to object properties\n"
   ]
  },
  {
   "cell_type": "code",
   "execution_count": null,
   "metadata": {},
   "outputs": [],
   "source": [
    "def __init__(parameter):\n",
    "    body of the contructor"
   ]
  },
  {
   "cell_type": "code",
   "execution_count": 17,
   "metadata": {},
   "outputs": [
    {
     "name": "stdout",
     "output_type": "stream",
     "text": [
      "Ajay\n",
      "20\n"
     ]
    }
   ],
   "source": [
    "#create a class named Person,use _init_() function to assaign values \n",
    "#for name and age \n",
    "class Person:\n",
    "    def __init__(self,name,age):\n",
    "        self.name = name #self parameter is used to access variables \n",
    "        #that belongs to class\n",
    "        self.age = age\n",
    "p1= Person(\"Ajay\",20)\n",
    "print(p1.name)\n",
    "print(p1.age)\n",
    "\n",
    "        "
   ]
  },
  {
   "cell_type": "code",
   "execution_count": 24,
   "metadata": {},
   "outputs": [
    {
     "name": "stdout",
     "output_type": "stream",
     "text": [
      "hello my name is: Ajay\n"
     ]
    }
   ],
   "source": [
    "#create a method in Person class\n",
    "class Person:\n",
    "    def __init__(self,name,age):\n",
    "        self.name = name\n",
    "        self.age= age\n",
    "        \n",
    "    def demo(self):\n",
    "        print(\"hello my name is: \"+self.name)\n",
    "\n",
    "p1=Person(\"Ajay\",20)\n",
    "p1.demo()"
   ]
  },
  {
   "cell_type": "code",
   "execution_count": 25,
   "metadata": {},
   "outputs": [
    {
     "name": "stdout",
     "output_type": "stream",
     "text": [
      "Hello My Name is :Ajay\n",
      "21\n"
     ]
    }
   ],
   "source": [
    "#modify Object Properties:\n",
    "class Person:\n",
    "    def __init__(self,name,age):\n",
    "        self.name= name\n",
    "        self.age = age\n",
    "    def demo(self):\n",
    "        print(\"Hello My Name is :\"+self.name)\n",
    "p1 = Person(\"Ajay\",20)\n",
    "p1.age = 21\n",
    "p1.demo()\n",
    "print(p1.age)"
   ]
  },
  {
   "cell_type": "code",
   "execution_count": 27,
   "metadata": {},
   "outputs": [
    {
     "name": "stdout",
     "output_type": "stream",
     "text": [
      "Hello My Name is :Ajay\n"
     ]
    },
    {
     "ename": "AttributeError",
     "evalue": "'Person' object has no attribute 'age'",
     "output_type": "error",
     "traceback": [
      "\u001b[1;31m---------------------------------------------------------------------------\u001b[0m",
      "\u001b[1;31mAttributeError\u001b[0m                            Traceback (most recent call last)",
      "\u001b[1;32m<ipython-input-27-11d80a4501bd>\u001b[0m in \u001b[0;36m<module>\u001b[1;34m\u001b[0m\n\u001b[0;32m      9\u001b[0m \u001b[1;32mdel\u001b[0m \u001b[0mp1\u001b[0m\u001b[1;33m.\u001b[0m\u001b[0mage\u001b[0m\u001b[1;33m\u001b[0m\u001b[1;33m\u001b[0m\u001b[0m\n\u001b[0;32m     10\u001b[0m \u001b[0mp1\u001b[0m\u001b[1;33m.\u001b[0m\u001b[0mdemo\u001b[0m\u001b[1;33m(\u001b[0m\u001b[1;33m)\u001b[0m\u001b[1;33m\u001b[0m\u001b[1;33m\u001b[0m\u001b[0m\n\u001b[1;32m---> 11\u001b[1;33m \u001b[0mprint\u001b[0m\u001b[1;33m(\u001b[0m\u001b[0mp1\u001b[0m\u001b[1;33m.\u001b[0m\u001b[0mage\u001b[0m\u001b[1;33m)\u001b[0m\u001b[1;33m\u001b[0m\u001b[1;33m\u001b[0m\u001b[0m\n\u001b[0m",
      "\u001b[1;31mAttributeError\u001b[0m: 'Person' object has no attribute 'age'"
     ]
    }
   ],
   "source": [
    "#delete Object Properties\n",
    "class Person:\n",
    "    def __init__(self,name,age):\n",
    "        self.name= name\n",
    "        self.age = age\n",
    "    def demo(self):\n",
    "        print(\"Hello My Name is :\"+self.name)\n",
    "p1 = Person(\"Ajay\",20)\n",
    "del p1.age\n",
    "p1.demo()\n",
    "print(p1.age)"
   ]
  },
  {
   "cell_type": "code",
   "execution_count": null,
   "metadata": {},
   "outputs": [],
   "source": []
  }
 ],
 "metadata": {
  "kernelspec": {
   "display_name": "Python 3",
   "language": "python",
   "name": "python3"
  },
  "language_info": {
   "codemirror_mode": {
    "name": "ipython",
    "version": 3
   },
   "file_extension": ".py",
   "mimetype": "text/x-python",
   "name": "python",
   "nbconvert_exporter": "python",
   "pygments_lexer": "ipython3",
   "version": "3.8.5"
  }
 },
 "nbformat": 4,
 "nbformat_minor": 4
}
